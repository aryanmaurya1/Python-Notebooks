{
 "cells": [
  {
   "cell_type": "markdown",
   "metadata": {},
   "source": [
    "# Using Python for Research Homework: Week 3, Case Study 1\n",
    "\n",
    "A cipher is a secret code for a language.  In this case study, we will explore a cipher that is reported by contemporary Greek historians to have been used by Julius Caesar to send secret messages to generals during times of war."
   ]
  },
  {
   "cell_type": "markdown",
   "metadata": {},
   "source": [
    "### Exercise 1\n",
    "\n",
    "A cipher is a secret code for a language. In this case study, we will explore a cipher that is reported by contemporary Greek historians to have been used by Julius Caesar to send secret messages to generals during times of war.\n",
    "\n",
    "The Caesar cipher shifts each letter of a message to another letter in the alphabet located a fixed distance from the original letter. If our encryption key were `1`, we would shift `h` to the next letter `i`, `i` to the next letter `j`, and so on. If we reach the end of the alphabet, which for us is the space character, we simply loop back to `a`. To decode the message, we make a similar shift, except we move the same number of steps backwards in the alphabet.\n",
    "\n",
    "Over the next five exercises, we will create our own Caesar cipher, as well as a message decoder for this cipher. In this exercise, we will define the alphabet used in the cipher.\n",
    "\n",
    "#### Instructions\n",
    "- The `string` library has been imported. Create a string called `alphabet` consisting of the space character `' '` followed by (concatenated with) the lowercase letters. Note that we're only using the lowercase letters in this exercise."
   ]
  },
  {
   "cell_type": "code",
   "execution_count": 1,
   "metadata": {},
   "outputs": [],
   "source": [
    "import string\n",
    "# write your code here!\n",
    "# alphabet = \" \" + \"abcdefghijklmnopqrstuvwxyz\"\n",
    "alphabet = \" \" + string.ascii_lowercase"
   ]
  },
  {
   "cell_type": "markdown",
   "metadata": {},
   "source": [
    "### Exercise 2 \n",
    "\n",
    "In this exercise, we will define a dictionary that specifies the index of each character in `alphabet`.\n",
    "\n",
    "#### Instructions \n",
    "- `alphabet` has already defined in the last exercise. Create a dictionary with keys consisting of the characters in alphabet and values consisting of the numbers from 0 to 26.\n",
    "- Store this as `positions`."
   ]
  },
  {
   "cell_type": "code",
   "execution_count": 2,
   "metadata": {},
   "outputs": [],
   "source": [
    "# write your code here!\n",
    "positions = dict(enumerate(alphabet))\n",
    "# Reversing key value pairs\n",
    "positions = dict(zip(positions.values(), positions.keys()))"
   ]
  },
  {
   "cell_type": "markdown",
   "metadata": {},
   "source": [
    "### Exercise 3\n",
    "\n",
    "In this exercise, we will encode a message with a Caesar cipher.\n",
    "\n",
    "#### Instructions \n",
    "\n",
    "- `alphabet` and `positions` have already been defined in previous exercises. Use `positions` to create an encoded message based on message where each character in message has been shifted forward by 1 position, as defined by positions.\n",
    "- **Note that you can ensure the result remains within 0-26 using result % 27**\n",
    "- Store this as `encoded_message`."
   ]
  },
  {
   "cell_type": "code",
   "execution_count": 3,
   "metadata": {},
   "outputs": [
    {
     "data": {
      "text/plain": [
       "'ijanzaobnfajtadbftbs'"
      ]
     },
     "execution_count": 3,
     "metadata": {},
     "output_type": "execute_result"
    }
   ],
   "source": [
    "message = \"hi my name is caesar\"\n",
    "# write your code here!\n",
    "def encode(message):\n",
    "    encoded_message = \"\"\n",
    "    for c in message:\n",
    "        c_index = positions[c]\n",
    "        next_index = (c_index + 1)%27\n",
    "        encoded_message += alphabet[next_index]\n",
    "    return encoded_message\n",
    "encoded_message = encode(message)\n",
    "encoded_message"
   ]
  },
  {
   "cell_type": "markdown",
   "metadata": {},
   "source": [
    "### Exercise 4\n",
    "\n",
    "In this exercise, we will define a function that encodes a message with any given encryption key.\n",
    "\n",
    "#### Instructions \n",
    "- `alphabet`, `position` and `message` remain defined from previous exercises. Define a function `encoding` that takes a message as input as well as an int encryption key `key` to encode a message with the Caesar cipher by shifting each letter in message by key positions.\n",
    "- Your function should return a string consisting of these encoded letters.\n",
    "- Use `encoding` to encode message using `key = 3` and save the result as `encoded_message`.\n",
    "Print `encoded_message`."
   ]
  },
  {
   "cell_type": "code",
   "execution_count": 4,
   "metadata": {},
   "outputs": [
    {
     "data": {
      "text/plain": [
       "'klcpacqdphclvcfdhvdu'"
      ]
     },
     "execution_count": 4,
     "metadata": {},
     "output_type": "execute_result"
    }
   ],
   "source": [
    "# write your code here \n",
    "def encode(message, key):\n",
    "    encoded_message = \"\"\n",
    "    for c in message:\n",
    "        c_index = positions[c]\n",
    "        next_index = (c_index + key)%27\n",
    "        encoded_message += alphabet[next_index]\n",
    "    return encoded_message\n",
    "encoded_message = encode(message, 3)\n",
    "encoded_message"
   ]
  },
  {
   "cell_type": "markdown",
   "metadata": {},
   "source": [
    "### Exercise 5\n",
    "\n",
    "In this exercise, we will decode an encoded message.\n",
    "\n",
    "#### Instructions \n",
    "- Use `encoding` to decode `encoded_message`.\n",
    "- Store your encoded message as `decoded_message`.\n",
    "- Print `decoded_message`. Does this recover your original message?"
   ]
  },
  {
   "cell_type": "code",
   "execution_count": 5,
   "metadata": {},
   "outputs": [],
   "source": [
    "# write your code here!\n",
    "def decode(message, key):\n",
    "    decoded_message = \"\"\n",
    "    for c in message:\n",
    "        c_index = positions[c]\n",
    "        prev_index = (c_index - key)%27\n",
    "        if prev_index < 0:\n",
    "            prev_index += 27\n",
    "        decoded_message += alphabet[prev_index]\n",
    "    return decoded_message"
   ]
  },
  {
   "cell_type": "code",
   "execution_count": 6,
   "metadata": {},
   "outputs": [
    {
     "name": "stdout",
     "output_type": "stream",
     "text": [
      "hi my name is caesar\n"
     ]
    }
   ],
   "source": [
    "decode_message = decode('klcpacqdphclvcfdhvdu', 3)\n",
    "print(decode_message)"
   ]
  },
  {
   "cell_type": "code",
   "execution_count": 7,
   "metadata": {},
   "outputs": [
    {
     "data": {
      "text/plain": [
       "14"
      ]
     },
     "execution_count": 7,
     "metadata": {},
     "output_type": "execute_result"
    }
   ],
   "source": [
    "positions['n']"
   ]
  },
  {
   "cell_type": "code",
   "execution_count": 12,
   "metadata": {},
   "outputs": [
    {
     "data": {
      "text/plain": [
       "dict_values(['ijanzaobnfajtadbftbs', 'klcpacqdphclvcfdhvdu', 14, ['', 'import string\\n# write your code here!\\n# alphabet = \" \" + \"abcdefghijklmnopqrstuvwxyz\"\\nalphabet = \" \" + string.ascii_lowercase', '# write your code here!\\npositions = dict(enumerate(alphabet))\\n# Reversing key value pairs\\npositions = dict(zip(positions.values(), positions.keys()))', 'message = \"hi my name is caesar\"\\n# write your code here!\\ndef encode(message):\\n    encoded_message = \"\"\\n    for c in message:\\n        c_index = positions[c]\\n        next_index = (c_index + 1)%27\\n        encoded_message += alphabet[next_index]\\n    return encoded_message\\nencoded_message = encode(message)\\nencoded_message', '# write your code here \\ndef encode(message, key):\\n    encoded_message = \"\"\\n    for c in message:\\n        c_index = positions[c]\\n        next_index = (c_index + key)%27\\n        encoded_message += alphabet[next_index]\\n    return encoded_message\\nencoded_message = encode(message, 3)\\nencoded_message', '# write your code here!\\ndef decode(message, key):\\n    decoded_message = \"\"\\n    for c in message:\\n        c_index = positions[c]\\n        prev_index = (c_index - key)%27\\n        if prev_index < 0:\\n            prev_index += 27\\n        decoded_message += alphabet[prev_index]\\n    return decoded_message', \"decode_message = decode('klcpacqdphclvcfdhvdu', 3)\\nprint(decode_message)\", \"positions['n']\", 'In', 'Out', 'type(Out)', 'Out.keys()', 'Out.values()'], <class 'dict'>, dict_keys([3, 4, 7, 8, 10, 11])])"
      ]
     },
     "execution_count": 12,
     "metadata": {},
     "output_type": "execute_result"
    }
   ],
   "source": [
    "Out.values()"
   ]
  },
  {
   "cell_type": "code",
   "execution_count": null,
   "metadata": {},
   "outputs": [],
   "source": []
  }
 ],
 "metadata": {
  "kernelspec": {
   "display_name": "Python 3",
   "language": "python",
   "name": "python3"
  },
  "language_info": {
   "codemirror_mode": {
    "name": "ipython",
    "version": 3
   },
   "file_extension": ".py",
   "mimetype": "text/x-python",
   "name": "python",
   "nbconvert_exporter": "python",
   "pygments_lexer": "ipython3",
   "version": "3.8.2"
  }
 },
 "nbformat": 4,
 "nbformat_minor": 2
}
